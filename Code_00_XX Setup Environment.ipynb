{
 "cells": [
  {
   "cell_type": "code",
   "execution_count": 9,
   "id": "d5a3d26e",
   "metadata": {},
   "outputs": [
    {
     "name": "stdout",
     "output_type": "stream",
     "text": [
      "\u001b[31mERROR: Could not find a version that satisfies the requirement tensorflow===2.10.0 (from versions: none)\u001b[0m\u001b[31m\n",
      "\u001b[0m\u001b[31mERROR: No matching distribution found for tensorflow===2.10.0\u001b[0m\u001b[31m\n",
      "\u001b[0mRequirement already satisfied: torch in /Users/olympiasaha/anaconda3/envs/Transformers2/lib/python3.9/site-packages (2.0.0)\n",
      "Requirement already satisfied: filelock in /Users/olympiasaha/anaconda3/envs/Transformers2/lib/python3.9/site-packages (from torch) (3.12.0)\n",
      "Requirement already satisfied: sympy in /Users/olympiasaha/anaconda3/envs/Transformers2/lib/python3.9/site-packages (from torch) (1.11.1)\n",
      "Requirement already satisfied: jinja2 in /Users/olympiasaha/anaconda3/envs/Transformers2/lib/python3.9/site-packages (from torch) (3.1.2)\n",
      "Requirement already satisfied: typing-extensions in /Users/olympiasaha/anaconda3/envs/Transformers2/lib/python3.9/site-packages (from torch) (4.5.0)\n",
      "Requirement already satisfied: networkx in /Users/olympiasaha/anaconda3/envs/Transformers2/lib/python3.9/site-packages (from torch) (3.1)\n",
      "Requirement already satisfied: MarkupSafe>=2.0 in /Users/olympiasaha/anaconda3/envs/Transformers2/lib/python3.9/site-packages (from jinja2->torch) (2.1.1)\n",
      "Requirement already satisfied: mpmath>=0.19 in /Users/olympiasaha/anaconda3/envs/Transformers2/lib/python3.9/site-packages (from sympy->torch) (1.3.0)\n",
      "Requirement already satisfied: keras===2.10.0 in /Users/olympiasaha/anaconda3/envs/Transformers2/lib/python3.9/site-packages (2.10.0)\n",
      "Requirement already satisfied: transformers in /Users/olympiasaha/anaconda3/envs/Transformers2/lib/python3.9/site-packages (4.28.1)\n",
      "Requirement already satisfied: requests in /Users/olympiasaha/anaconda3/envs/Transformers2/lib/python3.9/site-packages (from transformers) (2.29.0)\n",
      "Requirement already satisfied: tokenizers!=0.11.3,<0.14,>=0.11.1 in /Users/olympiasaha/anaconda3/envs/Transformers2/lib/python3.9/site-packages (from transformers) (0.13.3)\n",
      "Requirement already satisfied: tqdm>=4.27 in /Users/olympiasaha/anaconda3/envs/Transformers2/lib/python3.9/site-packages (from transformers) (4.65.0)\n",
      "Requirement already satisfied: filelock in /Users/olympiasaha/anaconda3/envs/Transformers2/lib/python3.9/site-packages (from transformers) (3.12.0)\n",
      "Requirement already satisfied: numpy>=1.17 in /Users/olympiasaha/anaconda3/envs/Transformers2/lib/python3.9/site-packages (from transformers) (1.24.3)\n",
      "Requirement already satisfied: regex!=2019.12.17 in /Users/olympiasaha/anaconda3/envs/Transformers2/lib/python3.9/site-packages (from transformers) (2023.3.23)\n",
      "Requirement already satisfied: pyyaml>=5.1 in /Users/olympiasaha/anaconda3/envs/Transformers2/lib/python3.9/site-packages (from transformers) (6.0)\n",
      "Requirement already satisfied: huggingface-hub<1.0,>=0.11.0 in /Users/olympiasaha/anaconda3/envs/Transformers2/lib/python3.9/site-packages (from transformers) (0.14.1)\n",
      "Requirement already satisfied: packaging>=20.0 in /Users/olympiasaha/anaconda3/envs/Transformers2/lib/python3.9/site-packages (from transformers) (23.0)\n",
      "Requirement already satisfied: typing-extensions>=3.7.4.3 in /Users/olympiasaha/anaconda3/envs/Transformers2/lib/python3.9/site-packages (from huggingface-hub<1.0,>=0.11.0->transformers) (4.5.0)\n",
      "Requirement already satisfied: fsspec in /Users/olympiasaha/anaconda3/envs/Transformers2/lib/python3.9/site-packages (from huggingface-hub<1.0,>=0.11.0->transformers) (2023.4.0)\n",
      "Requirement already satisfied: charset-normalizer<4,>=2 in /Users/olympiasaha/anaconda3/envs/Transformers2/lib/python3.9/site-packages (from requests->transformers) (3.1.0)\n",
      "Requirement already satisfied: idna<4,>=2.5 in /Users/olympiasaha/anaconda3/envs/Transformers2/lib/python3.9/site-packages (from requests->transformers) (3.4)\n",
      "Requirement already satisfied: certifi>=2017.4.17 in /Users/olympiasaha/anaconda3/envs/Transformers2/lib/python3.9/site-packages (from requests->transformers) (2022.12.7)\n",
      "Requirement already satisfied: urllib3<1.27,>=1.21.1 in /Users/olympiasaha/anaconda3/envs/Transformers2/lib/python3.9/site-packages (from requests->transformers) (1.26.15)\n",
      "Requirement already satisfied: datasets in /Users/olympiasaha/anaconda3/envs/Transformers2/lib/python3.9/site-packages (2.12.0)\n",
      "Requirement already satisfied: dill<0.3.7,>=0.3.0 in /Users/olympiasaha/anaconda3/envs/Transformers2/lib/python3.9/site-packages (from datasets) (0.3.6)\n",
      "Requirement already satisfied: multiprocess in /Users/olympiasaha/anaconda3/envs/Transformers2/lib/python3.9/site-packages (from datasets) (0.70.14)\n",
      "Requirement already satisfied: fsspec[http]>=2021.11.1 in /Users/olympiasaha/anaconda3/envs/Transformers2/lib/python3.9/site-packages (from datasets) (2023.4.0)\n",
      "Requirement already satisfied: aiohttp in /Users/olympiasaha/anaconda3/envs/Transformers2/lib/python3.9/site-packages (from datasets) (3.8.4)\n",
      "Requirement already satisfied: huggingface-hub<1.0.0,>=0.11.0 in /Users/olympiasaha/anaconda3/envs/Transformers2/lib/python3.9/site-packages (from datasets) (0.14.1)\n",
      "Requirement already satisfied: packaging in /Users/olympiasaha/anaconda3/envs/Transformers2/lib/python3.9/site-packages (from datasets) (23.0)\n",
      "Requirement already satisfied: pandas in /Users/olympiasaha/anaconda3/envs/Transformers2/lib/python3.9/site-packages (from datasets) (2.0.1)\n",
      "Requirement already satisfied: pyyaml>=5.1 in /Users/olympiasaha/anaconda3/envs/Transformers2/lib/python3.9/site-packages (from datasets) (6.0)\n",
      "Requirement already satisfied: pyarrow>=8.0.0 in /Users/olympiasaha/anaconda3/envs/Transformers2/lib/python3.9/site-packages (from datasets) (11.0.0)\n",
      "Requirement already satisfied: xxhash in /Users/olympiasaha/anaconda3/envs/Transformers2/lib/python3.9/site-packages (from datasets) (3.2.0)\n",
      "Requirement already satisfied: tqdm>=4.62.1 in /Users/olympiasaha/anaconda3/envs/Transformers2/lib/python3.9/site-packages (from datasets) (4.65.0)\n",
      "Requirement already satisfied: requests>=2.19.0 in /Users/olympiasaha/anaconda3/envs/Transformers2/lib/python3.9/site-packages (from datasets) (2.29.0)\n",
      "Requirement already satisfied: responses<0.19 in /Users/olympiasaha/anaconda3/envs/Transformers2/lib/python3.9/site-packages (from datasets) (0.18.0)\n",
      "Requirement already satisfied: numpy>=1.17 in /Users/olympiasaha/anaconda3/envs/Transformers2/lib/python3.9/site-packages (from datasets) (1.24.3)\n",
      "Requirement already satisfied: charset-normalizer<4.0,>=2.0 in /Users/olympiasaha/anaconda3/envs/Transformers2/lib/python3.9/site-packages (from aiohttp->datasets) (3.1.0)\n",
      "Requirement already satisfied: async-timeout<5.0,>=4.0.0a3 in /Users/olympiasaha/anaconda3/envs/Transformers2/lib/python3.9/site-packages (from aiohttp->datasets) (4.0.2)\n",
      "Requirement already satisfied: yarl<2.0,>=1.0 in /Users/olympiasaha/anaconda3/envs/Transformers2/lib/python3.9/site-packages (from aiohttp->datasets) (1.9.2)\n",
      "Requirement already satisfied: aiosignal>=1.1.2 in /Users/olympiasaha/anaconda3/envs/Transformers2/lib/python3.9/site-packages (from aiohttp->datasets) (1.3.1)\n",
      "Requirement already satisfied: frozenlist>=1.1.1 in /Users/olympiasaha/anaconda3/envs/Transformers2/lib/python3.9/site-packages (from aiohttp->datasets) (1.3.3)\n",
      "Requirement already satisfied: multidict<7.0,>=4.5 in /Users/olympiasaha/anaconda3/envs/Transformers2/lib/python3.9/site-packages (from aiohttp->datasets) (6.0.4)\n",
      "Requirement already satisfied: attrs>=17.3.0 in /Users/olympiasaha/anaconda3/envs/Transformers2/lib/python3.9/site-packages (from aiohttp->datasets) (22.1.0)\n",
      "Requirement already satisfied: typing-extensions>=3.7.4.3 in /Users/olympiasaha/anaconda3/envs/Transformers2/lib/python3.9/site-packages (from huggingface-hub<1.0.0,>=0.11.0->datasets) (4.5.0)\n",
      "Requirement already satisfied: filelock in /Users/olympiasaha/anaconda3/envs/Transformers2/lib/python3.9/site-packages (from huggingface-hub<1.0.0,>=0.11.0->datasets) (3.12.0)\n",
      "Requirement already satisfied: urllib3<1.27,>=1.21.1 in /Users/olympiasaha/anaconda3/envs/Transformers2/lib/python3.9/site-packages (from requests>=2.19.0->datasets) (1.26.15)\n",
      "Requirement already satisfied: idna<4,>=2.5 in /Users/olympiasaha/anaconda3/envs/Transformers2/lib/python3.9/site-packages (from requests>=2.19.0->datasets) (3.4)\n",
      "Requirement already satisfied: certifi>=2017.4.17 in /Users/olympiasaha/anaconda3/envs/Transformers2/lib/python3.9/site-packages (from requests>=2.19.0->datasets) (2022.12.7)\n",
      "Requirement already satisfied: tzdata>=2022.1 in /Users/olympiasaha/anaconda3/envs/Transformers2/lib/python3.9/site-packages (from pandas->datasets) (2023.3)\n",
      "Requirement already satisfied: pytz>=2020.1 in /Users/olympiasaha/anaconda3/envs/Transformers2/lib/python3.9/site-packages (from pandas->datasets) (2023.3)\n"
     ]
    },
    {
     "name": "stdout",
     "output_type": "stream",
     "text": [
      "Requirement already satisfied: python-dateutil>=2.8.2 in /Users/olympiasaha/anaconda3/envs/Transformers2/lib/python3.9/site-packages (from pandas->datasets) (2.8.2)\n",
      "Requirement already satisfied: six>=1.5 in /Users/olympiasaha/anaconda3/envs/Transformers2/lib/python3.9/site-packages (from python-dateutil>=2.8.2->pandas->datasets) (1.16.0)\n",
      "Requirement already satisfied: sentencepiece in /Users/olympiasaha/anaconda3/envs/Transformers2/lib/python3.9/site-packages (0.1.98)\n",
      "Requirement already satisfied: evaluate in /Users/olympiasaha/anaconda3/envs/Transformers2/lib/python3.9/site-packages (0.4.0)\n",
      "Requirement already satisfied: dill in /Users/olympiasaha/anaconda3/envs/Transformers2/lib/python3.9/site-packages (from evaluate) (0.3.6)\n",
      "Requirement already satisfied: pandas in /Users/olympiasaha/anaconda3/envs/Transformers2/lib/python3.9/site-packages (from evaluate) (2.0.1)\n",
      "Requirement already satisfied: huggingface-hub>=0.7.0 in /Users/olympiasaha/anaconda3/envs/Transformers2/lib/python3.9/site-packages (from evaluate) (0.14.1)\n",
      "Requirement already satisfied: datasets>=2.0.0 in /Users/olympiasaha/anaconda3/envs/Transformers2/lib/python3.9/site-packages (from evaluate) (2.12.0)\n",
      "Requirement already satisfied: numpy>=1.17 in /Users/olympiasaha/anaconda3/envs/Transformers2/lib/python3.9/site-packages (from evaluate) (1.24.3)\n",
      "Requirement already satisfied: xxhash in /Users/olympiasaha/anaconda3/envs/Transformers2/lib/python3.9/site-packages (from evaluate) (3.2.0)\n",
      "Requirement already satisfied: tqdm>=4.62.1 in /Users/olympiasaha/anaconda3/envs/Transformers2/lib/python3.9/site-packages (from evaluate) (4.65.0)\n",
      "Requirement already satisfied: packaging in /Users/olympiasaha/anaconda3/envs/Transformers2/lib/python3.9/site-packages (from evaluate) (23.0)\n",
      "Requirement already satisfied: multiprocess in /Users/olympiasaha/anaconda3/envs/Transformers2/lib/python3.9/site-packages (from evaluate) (0.70.14)\n",
      "Requirement already satisfied: requests>=2.19.0 in /Users/olympiasaha/anaconda3/envs/Transformers2/lib/python3.9/site-packages (from evaluate) (2.29.0)\n",
      "Requirement already satisfied: fsspec[http]>=2021.05.0 in /Users/olympiasaha/anaconda3/envs/Transformers2/lib/python3.9/site-packages (from evaluate) (2023.4.0)\n",
      "Requirement already satisfied: responses<0.19 in /Users/olympiasaha/anaconda3/envs/Transformers2/lib/python3.9/site-packages (from evaluate) (0.18.0)\n",
      "Requirement already satisfied: pyarrow>=8.0.0 in /Users/olympiasaha/anaconda3/envs/Transformers2/lib/python3.9/site-packages (from datasets>=2.0.0->evaluate) (11.0.0)\n",
      "Requirement already satisfied: pyyaml>=5.1 in /Users/olympiasaha/anaconda3/envs/Transformers2/lib/python3.9/site-packages (from datasets>=2.0.0->evaluate) (6.0)\n",
      "Requirement already satisfied: aiohttp in /Users/olympiasaha/anaconda3/envs/Transformers2/lib/python3.9/site-packages (from datasets>=2.0.0->evaluate) (3.8.4)\n",
      "Requirement already satisfied: filelock in /Users/olympiasaha/anaconda3/envs/Transformers2/lib/python3.9/site-packages (from huggingface-hub>=0.7.0->evaluate) (3.12.0)\n",
      "Requirement already satisfied: typing-extensions>=3.7.4.3 in /Users/olympiasaha/anaconda3/envs/Transformers2/lib/python3.9/site-packages (from huggingface-hub>=0.7.0->evaluate) (4.5.0)\n",
      "Requirement already satisfied: idna<4,>=2.5 in /Users/olympiasaha/anaconda3/envs/Transformers2/lib/python3.9/site-packages (from requests>=2.19.0->evaluate) (3.4)\n",
      "Requirement already satisfied: charset-normalizer<4,>=2 in /Users/olympiasaha/anaconda3/envs/Transformers2/lib/python3.9/site-packages (from requests>=2.19.0->evaluate) (3.1.0)\n",
      "Requirement already satisfied: certifi>=2017.4.17 in /Users/olympiasaha/anaconda3/envs/Transformers2/lib/python3.9/site-packages (from requests>=2.19.0->evaluate) (2022.12.7)\n",
      "Requirement already satisfied: urllib3<1.27,>=1.21.1 in /Users/olympiasaha/anaconda3/envs/Transformers2/lib/python3.9/site-packages (from requests>=2.19.0->evaluate) (1.26.15)\n",
      "Requirement already satisfied: tzdata>=2022.1 in /Users/olympiasaha/anaconda3/envs/Transformers2/lib/python3.9/site-packages (from pandas->evaluate) (2023.3)\n",
      "Requirement already satisfied: pytz>=2020.1 in /Users/olympiasaha/anaconda3/envs/Transformers2/lib/python3.9/site-packages (from pandas->evaluate) (2023.3)\n",
      "Requirement already satisfied: python-dateutil>=2.8.2 in /Users/olympiasaha/anaconda3/envs/Transformers2/lib/python3.9/site-packages (from pandas->evaluate) (2.8.2)\n",
      "Requirement already satisfied: async-timeout<5.0,>=4.0.0a3 in /Users/olympiasaha/anaconda3/envs/Transformers2/lib/python3.9/site-packages (from aiohttp->datasets>=2.0.0->evaluate) (4.0.2)\n",
      "Requirement already satisfied: multidict<7.0,>=4.5 in /Users/olympiasaha/anaconda3/envs/Transformers2/lib/python3.9/site-packages (from aiohttp->datasets>=2.0.0->evaluate) (6.0.4)\n",
      "Requirement already satisfied: aiosignal>=1.1.2 in /Users/olympiasaha/anaconda3/envs/Transformers2/lib/python3.9/site-packages (from aiohttp->datasets>=2.0.0->evaluate) (1.3.1)\n",
      "Requirement already satisfied: yarl<2.0,>=1.0 in /Users/olympiasaha/anaconda3/envs/Transformers2/lib/python3.9/site-packages (from aiohttp->datasets>=2.0.0->evaluate) (1.9.2)\n",
      "Requirement already satisfied: attrs>=17.3.0 in /Users/olympiasaha/anaconda3/envs/Transformers2/lib/python3.9/site-packages (from aiohttp->datasets>=2.0.0->evaluate) (22.1.0)\n",
      "Requirement already satisfied: frozenlist>=1.1.1 in /Users/olympiasaha/anaconda3/envs/Transformers2/lib/python3.9/site-packages (from aiohttp->datasets>=2.0.0->evaluate) (1.3.3)\n",
      "Requirement already satisfied: six>=1.5 in /Users/olympiasaha/anaconda3/envs/Transformers2/lib/python3.9/site-packages (from python-dateutil>=2.8.2->pandas->evaluate) (1.16.0)\n",
      "Requirement already satisfied: nltk in /Users/olympiasaha/anaconda3/envs/Transformers2/lib/python3.9/site-packages (3.8.1)\n",
      "Requirement already satisfied: regex>=2021.8.3 in /Users/olympiasaha/anaconda3/envs/Transformers2/lib/python3.9/site-packages (from nltk) (2023.3.23)\n",
      "Requirement already satisfied: tqdm in /Users/olympiasaha/anaconda3/envs/Transformers2/lib/python3.9/site-packages (from nltk) (4.65.0)\n",
      "Requirement already satisfied: click in /Users/olympiasaha/anaconda3/envs/Transformers2/lib/python3.9/site-packages (from nltk) (8.1.3)\n",
      "Requirement already satisfied: joblib in /Users/olympiasaha/anaconda3/envs/Transformers2/lib/python3.9/site-packages (from nltk) (1.2.0)\n",
      "Requirement already satisfied: rouge_score in /Users/olympiasaha/anaconda3/envs/Transformers2/lib/python3.9/site-packages (0.1.2)\n",
      "Requirement already satisfied: absl-py in /Users/olympiasaha/anaconda3/envs/Transformers2/lib/python3.9/site-packages (from rouge_score) (1.4.0)\n",
      "Requirement already satisfied: six>=1.14.0 in /Users/olympiasaha/anaconda3/envs/Transformers2/lib/python3.9/site-packages (from rouge_score) (1.16.0)\n",
      "Requirement already satisfied: nltk in /Users/olympiasaha/anaconda3/envs/Transformers2/lib/python3.9/site-packages (from rouge_score) (3.8.1)\n",
      "Requirement already satisfied: numpy in /Users/olympiasaha/anaconda3/envs/Transformers2/lib/python3.9/site-packages (from rouge_score) (1.24.3)\n",
      "Requirement already satisfied: click in /Users/olympiasaha/anaconda3/envs/Transformers2/lib/python3.9/site-packages (from nltk->rouge_score) (8.1.3)\n",
      "Requirement already satisfied: regex>=2021.8.3 in /Users/olympiasaha/anaconda3/envs/Transformers2/lib/python3.9/site-packages (from nltk->rouge_score) (2023.3.23)\n",
      "Requirement already satisfied: joblib in /Users/olympiasaha/anaconda3/envs/Transformers2/lib/python3.9/site-packages (from nltk->rouge_score) (1.2.0)\n",
      "Requirement already satisfied: tqdm in /Users/olympiasaha/anaconda3/envs/Transformers2/lib/python3.9/site-packages (from nltk->rouge_score) (4.65.0)\n"
     ]
    }
   ],
   "source": [
    "#Please execute this notebook on the course python environment\n",
    "#This installs all the pre-requisities for the course\n",
    "\n",
    "!pip install tensorflow===2.10.0\n",
    "!pip install torch\n",
    "!pip install keras===2.10.0\n",
    "!pip install transformers\n",
    "!pip install datasets\n",
    "!pip install sentencepiece\n",
    "!pip install evaluate\n",
    "!pip install nltk\n",
    "!pip install rouge_score"
   ]
  },
  {
   "cell_type": "code",
   "execution_count": 3,
   "id": "5728f87e",
   "metadata": {},
   "outputs": [
    {
     "name": "stdout",
     "output_type": "stream",
     "text": [
      "zsh:1: command not found: tensorflow\r\n"
     ]
    }
   ],
   "source": [
    "! tensorflow ver"
   ]
  },
  {
   "cell_type": "code",
   "execution_count": 10,
   "id": "ba84fe53",
   "metadata": {},
   "outputs": [
    {
     "ename": "ModuleNotFoundError",
     "evalue": "No module named 'tensorflow'",
     "output_type": "error",
     "traceback": [
      "\u001b[0;31m---------------------------------------------------------------------------\u001b[0m",
      "\u001b[0;31mModuleNotFoundError\u001b[0m                       Traceback (most recent call last)",
      "Cell \u001b[0;32mIn[10], line 1\u001b[0m\n\u001b[0;32m----> 1\u001b[0m \u001b[38;5;28;01mimport\u001b[39;00m \u001b[38;5;21;01mtensorflow\u001b[39;00m \u001b[38;5;28;01mas\u001b[39;00m \u001b[38;5;21;01mtf\u001b[39;00m\n",
      "\u001b[0;31mModuleNotFoundError\u001b[0m: No module named 'tensorflow'"
     ]
    }
   ],
   "source": [
    "import tensorflow as tf \n"
   ]
  },
  {
   "cell_type": "code",
   "execution_count": null,
   "id": "726c22a2",
   "metadata": {},
   "outputs": [],
   "source": []
  }
 ],
 "metadata": {
  "kernelspec": {
   "display_name": "Python 3 (ipykernel)",
   "language": "python",
   "name": "python3"
  },
  "language_info": {
   "codemirror_mode": {
    "name": "ipython",
    "version": 3
   },
   "file_extension": ".py",
   "mimetype": "text/x-python",
   "name": "python",
   "nbconvert_exporter": "python",
   "pygments_lexer": "ipython3",
   "version": "3.9.16"
  }
 },
 "nbformat": 4,
 "nbformat_minor": 5
}
